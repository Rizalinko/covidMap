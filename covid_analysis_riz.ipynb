{
 "cells": [
  {
   "cell_type": "code",
   "execution_count": 1,
   "metadata": {},
   "outputs": [
    {
     "name": "stderr",
     "output_type": "stream",
     "text": [
      "Duplicate key in file 'C:\\\\Users\\\\User\\\\.matplotlib\\\\stylelib\\\\mystyle_med.mplstyle' line #40.\n",
      "Duplicate key in file 'C:\\\\Users\\\\User\\\\.matplotlib\\\\stylelib\\\\mystyle_med.mplstyle' line #41.\n",
      "Duplicate key in file 'C:\\\\Users\\\\User\\\\.matplotlib\\\\stylelib\\\\mystyle_sw.mplstyle' line #40.\n",
      "Duplicate key in file 'C:\\\\Users\\\\User\\\\.matplotlib\\\\stylelib\\\\mystyle_sw.mplstyle' line #41.\n"
     ]
    },
    {
     "ename": "ModuleNotFoundError",
     "evalue": "No module named 'fbprophet'",
     "output_type": "error",
     "traceback": [
      "\u001b[1;31m---------------------------------------------------------------------------\u001b[0m",
      "\u001b[1;31mModuleNotFoundError\u001b[0m                       Traceback (most recent call last)",
      "\u001b[1;32m<ipython-input-1-aaf3823737f0>\u001b[0m in \u001b[0;36m<module>\u001b[1;34m\u001b[0m\n\u001b[0;32m      6\u001b[0m \u001b[1;32mimport\u001b[0m \u001b[0mipywidgets\u001b[0m \u001b[1;32mas\u001b[0m \u001b[0mwidgets\u001b[0m\u001b[1;33m\u001b[0m\u001b[1;33m\u001b[0m\u001b[0m\n\u001b[0;32m      7\u001b[0m \u001b[1;32mfrom\u001b[0m \u001b[0mIPython\u001b[0m\u001b[1;33m.\u001b[0m\u001b[0mdisplay\u001b[0m \u001b[1;32mimport\u001b[0m \u001b[0mdisplay\u001b[0m\u001b[1;33m\u001b[0m\u001b[1;33m\u001b[0m\u001b[0m\n\u001b[1;32m----> 8\u001b[1;33m \u001b[1;32mfrom\u001b[0m \u001b[0mfbprophet\u001b[0m \u001b[1;32mimport\u001b[0m \u001b[0mProphet\u001b[0m\u001b[1;33m\u001b[0m\u001b[1;33m\u001b[0m\u001b[0m\n\u001b[0m",
      "\u001b[1;31mModuleNotFoundError\u001b[0m: No module named 'fbprophet'"
     ]
    }
   ],
   "source": [
    "%matplotlib notebook\n",
    "import pandas as pd\n",
    "import matplotlib.pyplot as plt\n",
    "import matplotlib.dates as mdates\n",
    "\n",
    "import ipywidgets as widgets\n",
    "from IPython.display import display\n",
    "from fbprophet import Prophet"
   ]
  },
  {
   "cell_type": "code",
   "execution_count": null,
   "metadata": {},
   "outputs": [],
   "source": [
    "def getTimeSeries(fname):\n",
    "    df = pd.read_csv(fname)\n",
    "    countryData = df.groupby('Country/Region').sum()\n",
    "    countryData = countryData.drop(['Lat', 'Long'], axis=1).T\n",
    "    return countryData.set_index(pd.DatetimeIndex(countryData.index))"
   ]
  },
  {
   "cell_type": "code",
   "execution_count": null,
   "metadata": {},
   "outputs": [],
   "source": [
    "def fetchCountryData(country, freq='1d'):\n",
    "    confirmed = getTimeSeries('https://raw.githubusercontent.com/CSSEGISandData/COVID-19/master/csse_covid_19_data/csse_covid_19_time_series/time_series_19-covid-Confirmed.csv')\n",
    "    dead = getTimeSeries('https://raw.githubusercontent.com/CSSEGISandData/COVID-19/master/csse_covid_19_data/csse_covid_19_time_series/time_series_19-covid-Deaths.csv')\n",
    "    recovered = getTimeSeries('https://raw.githubusercontent.com/CSSEGISandData/COVID-19/master/csse_covid_19_data/csse_covid_19_time_series/time_series_19-covid-Recovered.csv')\n",
    "\n",
    "    data = pd.DataFrame([confirmed[country], dead[country], recovered[country]],\n",
    "                ['confirmed', 'dead', 'recovered']).T\n",
    "    \n",
    "    data = data[data.confirmed>0].resample(freq).max() # start with first confirmed case\n",
    "    data[['new_confirmed', 'new_dead', 'new_recovered']] = data.diff()\n",
    "    \n",
    "    data['mortality'] = data.dead / data.confirmed * 100\n",
    "    \n",
    "    return data"
   ]
  },
  {
   "cell_type": "code",
   "execution_count": null,
   "metadata": {},
   "outputs": [],
   "source": [
    "def fetchCountryList():\n",
    "    df = pd.read_csv('https://raw.githubusercontent.com/CSSEGISandData/COVID-19/master/csse_covid_19_data/csse_covid_19_time_series/time_series_19-covid-Confirmed.csv')\n",
    "    countryData = df.groupby('Country/Region').sum()\n",
    "    return sorted(df['Country/Region'].unique())\n"
   ]
  },
  {
   "cell_type": "code",
   "execution_count": null,
   "metadata": {},
   "outputs": [],
   "source": [
    "def plotAbsoluteCases(data):\n",
    "\n",
    "    fig, ax = plt.subplots(nrows=2, sharex=True, figsize=(8,8))\n",
    "    \n",
    "    ax[0].set_title('confirmed (%d)' %data.confirmed[-1])\n",
    "    data.confirmed.plot(kind='bar', ax=ax[0])\n",
    "\n",
    "    ax[1].set_title('dead (%d) and recovered (%d)' %(data.dead[-1], data.recovered[-1]))\n",
    "    data[['dead','recovered']].plot(kind='bar', ax=ax[1], color='rgb', rot=45)\n",
    "    \n",
    "    ax[1].xaxis.set_major_formatter(plt.FixedFormatter(data.index.to_series().dt.strftime(\"%b %d\")))\n",
    "    \n",
    "    for axis in ax:\n",
    "        axis.grid()"
   ]
  },
  {
   "cell_type": "code",
   "execution_count": null,
   "metadata": {},
   "outputs": [],
   "source": [
    "def plotPredictions(confirmed):\n",
    "    prophet_basic = Prophet ()\n",
    "    prophet_basic.fit (confirmed)\n",
    "\n",
    "    # making data frame with the future values\n",
    "    future = prophet_basic.make_future_dataframe (periods=300)  # periods - number of the datas for which to\n",
    "    future.tail (2)\n",
    "    forecast = prophet_basic.predict (future)\n",
    "\n",
    "    fig1 = prophet_basic.plot (forecast)\n"
   ]
  },
  {
   "cell_type": "code",
   "execution_count": null,
   "metadata": {},
   "outputs": [],
   "source": [
    "def plotNewCases(data):\n",
    "\n",
    "    fig, ax = plt.subplots(nrows=2, sharex=True, figsize=(8,8))\n",
    "\n",
    "    ax[0].set_title('new confirmed (%d)' %data.new_confirmed[-1])\n",
    "    data.new_confirmed.plot(kind='bar', ax=ax[0])\n",
    "\n",
    "    ax[1].set_title('new dead (%d) and recovered (%d)' %(data.new_dead[-1], data.new_recovered[-1]))\n",
    "    data[['new_dead','new_recovered']].plot(kind='bar', ax=ax[1], color='rg', rot=45)\n",
    "\n",
    "    ax[1].xaxis.set_major_formatter(plt.FixedFormatter(data.index.to_series().dt.strftime(\"%b %d\")))\n",
    "    for axis in ax:\n",
    "        axis.grid()  "
   ]
  },
  {
   "cell_type": "code",
   "execution_count": null,
   "metadata": {},
   "outputs": [],
   "source": [
    "output_stats = widgets.Output()\n",
    "output_plot_absoluteCases = widgets.Output()\n",
    "output_plot_predictedCases = widgets.Output()\n",
    "output_plot_newCases = widgets.Output()\n",
    "output_mortality = widgets.Output()\n",
    "\n",
    "button_refresh = widgets.Button(description = 'Refresh')\n",
    "def on_refresh(_):\n",
    "    common_filtering(dropdown_countries.value, dropdown_frequencies.value)\n",
    "\n",
    "button_refresh.on_click(on_refresh)\n",
    "    \n",
    "    \n",
    "dropdown_countries = widgets.Dropdown(options = fetchCountryList(),\n",
    "                                     description = 'Country:')\n",
    "\n",
    "frequencies = ('d', 'w', 'M', 'Q', '3Q')\n",
    "dropdown_frequencies = widgets.Dropdown(options = frequencies,\n",
    "                                      description = 'Frequency:')\n",
    "\n",
    "text_mortality = widgets.Text(disabled = True,\n",
    "                             description = 'Mortality:',\n",
    "                             value = \"NaN\")\n",
    "\n",
    "def dropdown_countries_eventhandler(change):\n",
    "    common_filtering(change.new, dropdown_frequencies.value)\n",
    "\n",
    "def dropdown_frequencies_eventhandler(change):\n",
    "    common_filtering(dropdown_countries.value, change.new)    \n",
    "\n",
    "output = widgets.Output()\n",
    "def common_filtering(country, freq):\n",
    "    output_stats.clear_output()\n",
    "    output_plot_absoluteCases.clear_output()\n",
    "    output_plot_newCases.clear_output()\n",
    "    output_plot_predictedCases.clear_output()\n",
    "\n",
    "    with output_stats:\n",
    "        data = fetchCountryData(country, freq)\n",
    "        display(data)\n",
    "    with output_plot_absoluteCases:\n",
    "        display(plotAbsoluteCases(data))\n",
    "    with output_plot_newCases:\n",
    "        display(plotNewCases(data))\n",
    "    with output_mortality:\n",
    "        text_mortality.value = \"{:.2f}%\".format(data.mortality[-1])\n",
    "    with output_plot_predictedCases:\n",
    "        display (plotPredictions (data.confirmed))\n",
    "\n",
    "\n",
    "dropdown_countries.observe(dropdown_countries_eventhandler, names='value')\n",
    "dropdown_frequencies.observe(dropdown_frequencies_eventhandler, names='value')"
   ]
  },
  {
   "cell_type": "code",
   "execution_count": null,
   "metadata": {},
   "outputs": [],
   "source": [
    "input_widgets = widgets.HBox([dropdown_countries, dropdown_frequencies, button_refresh])\n",
    "\n",
    "tab = widgets.Tab([output_plot_absoluteCases, output_plot_newCases, output_stats, output_plot_predictedCases])\n",
    "tab.set_title(0, 'Total Cases')\n",
    "tab.set_title(1, 'New Cases')\n",
    "tab.set_title(2, 'Data Set')\n",
    "tab.set_title(3, 'Predictions')\n",
    "\n",
    "dashboard = widgets.VBox((input_widgets, text_mortality, tab))"
   ]
  },
  {
   "cell_type": "code",
   "execution_count": null,
   "metadata": {},
   "outputs": [],
   "source": [
    "display(dashboard)\n",
    "button_refresh.click()"
   ]
  }
 ],
 "metadata": {
  "kernelspec": {
   "display_name": "Python 3",
   "language": "python",
   "name": "python3"
  },
  "language_info": {
   "codemirror_mode": {
    "name": "ipython",
    "version": 3
   },
   "file_extension": ".py",
   "mimetype": "text/x-python",
   "name": "python",
   "nbconvert_exporter": "python",
   "pygments_lexer": "ipython3",
   "version": "3.7.6"
  }
 },
 "nbformat": 4,
 "nbformat_minor": 2
}
