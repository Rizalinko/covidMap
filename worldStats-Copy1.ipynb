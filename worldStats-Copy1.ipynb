{
 "cells": [
  {
   "cell_type": "code",
   "execution_count": 1,
   "metadata": {},
   "outputs": [],
   "source": [
    "%matplotlib inline\n",
    "\n",
    "\n",
    "import pandas as pd\n",
    "import matplotlib.pyplot as plt\n",
    "import geopandas as gpd\n",
    "\n",
    "import json\n",
    "\n",
    "\n",
    "from datetime import datetime, date\n",
    "\n"
   ]
  },
  {
   "cell_type": "code",
   "execution_count": 2,
   "metadata": {},
   "outputs": [],
   "source": [
    "\n",
    "from ipywidgets import interact, interactive, fixed, interact_manual\n",
    "import ipywidgets as widgets"
   ]
  },
  {
   "cell_type": "markdown",
   "metadata": {},
   "source": [
    "# Load the world map"
   ]
  },
  {
   "cell_type": "code",
   "execution_count": 3,
   "metadata": {},
   "outputs": [],
   "source": [
    "# %%writeandexecute -i identifier load.py\n",
    "\n",
    "def loadGeopandas():    \n",
    "    shapefile = 'data/countries_110m/ne_110m_admin_0_countries.shp'\n",
    "    gdf = gpd.read_file(shapefile)[['ADMIN', 'ADM0_A3', 'geometry']]\n",
    "    gdf.head()\n",
    "    gdf.columns = ['country', 'country_code', 'geometry']\n",
    "    gdf.head()\n",
    "    \n",
    "    print(gdf[gdf['country'] == 'Antarctica'])\n",
    "    #Drop row corresponding to 'Antarctica'\n",
    "    gdf = gdf.drop(gdf.index[159])\n",
    "    return gdf"
   ]
  },
  {
   "cell_type": "code",
   "execution_count": 4,
   "metadata": {},
   "outputs": [
    {
     "name": "stdout",
     "output_type": "stream",
     "text": [
      "        country country_code  \\\n",
      "159  Antarctica          ATA   \n",
      "\n",
      "                                              geometry  \n",
      "159  MULTIPOLYGON (((-48.66062 -78.04702, -48.15140...  \n"
     ]
    },
    {
     "data": {
      "text/html": [
       "<div>\n",
       "<style scoped>\n",
       "    .dataframe tbody tr th:only-of-type {\n",
       "        vertical-align: middle;\n",
       "    }\n",
       "\n",
       "    .dataframe tbody tr th {\n",
       "        vertical-align: top;\n",
       "    }\n",
       "\n",
       "    .dataframe thead th {\n",
       "        text-align: right;\n",
       "    }\n",
       "</style>\n",
       "<table border=\"1\" class=\"dataframe\">\n",
       "  <thead>\n",
       "    <tr style=\"text-align: right;\">\n",
       "      <th></th>\n",
       "      <th>country</th>\n",
       "      <th>country_code</th>\n",
       "      <th>geometry</th>\n",
       "    </tr>\n",
       "  </thead>\n",
       "  <tbody>\n",
       "    <tr>\n",
       "      <th>0</th>\n",
       "      <td>Fiji</td>\n",
       "      <td>FJI</td>\n",
       "      <td>MULTIPOLYGON (((180.00000 -16.06713, 180.00000...</td>\n",
       "    </tr>\n",
       "    <tr>\n",
       "      <th>1</th>\n",
       "      <td>United Republic of Tanzania</td>\n",
       "      <td>TZA</td>\n",
       "      <td>POLYGON ((33.90371 -0.95000, 34.07262 -1.05982...</td>\n",
       "    </tr>\n",
       "    <tr>\n",
       "      <th>2</th>\n",
       "      <td>Western Sahara</td>\n",
       "      <td>SAH</td>\n",
       "      <td>POLYGON ((-8.66559 27.65643, -8.66512 27.58948...</td>\n",
       "    </tr>\n",
       "    <tr>\n",
       "      <th>3</th>\n",
       "      <td>Canada</td>\n",
       "      <td>CAN</td>\n",
       "      <td>MULTIPOLYGON (((-122.84000 49.00000, -122.9742...</td>\n",
       "    </tr>\n",
       "    <tr>\n",
       "      <th>4</th>\n",
       "      <td>United States of America</td>\n",
       "      <td>USA</td>\n",
       "      <td>MULTIPOLYGON (((-122.84000 49.00000, -120.0000...</td>\n",
       "    </tr>\n",
       "  </tbody>\n",
       "</table>\n",
       "</div>"
      ],
      "text/plain": [
       "                       country country_code  \\\n",
       "0                         Fiji          FJI   \n",
       "1  United Republic of Tanzania          TZA   \n",
       "2               Western Sahara          SAH   \n",
       "3                       Canada          CAN   \n",
       "4     United States of America          USA   \n",
       "\n",
       "                                            geometry  \n",
       "0  MULTIPOLYGON (((180.00000 -16.06713, 180.00000...  \n",
       "1  POLYGON ((33.90371 -0.95000, 34.07262 -1.05982...  \n",
       "2  POLYGON ((-8.66559 27.65643, -8.66512 27.58948...  \n",
       "3  MULTIPOLYGON (((-122.84000 49.00000, -122.9742...  \n",
       "4  MULTIPOLYGON (((-122.84000 49.00000, -120.0000...  "
      ]
     },
     "execution_count": 4,
     "metadata": {},
     "output_type": "execute_result"
    }
   ],
   "source": [
    "gdf = loadGeopandas()\n",
    "gdf.head()"
   ]
  },
  {
   "cell_type": "markdown",
   "metadata": {},
   "source": [
    "# Get data from CSSEGISandData"
   ]
  },
  {
   "cell_type": "code",
   "execution_count": 5,
   "metadata": {},
   "outputs": [],
   "source": [
    "def getTimeSeries(fname):\n",
    "    print(fname)\n",
    "    df = pd.read_csv(fname)\n",
    "    if not fname.count('web-data'):\n",
    "        countryData = df\n",
    "        return countryData.drop(['Province/State', 'Lat', 'Long'], axis=1)\n",
    "    return df\n",
    "    \n",
    "def fetchCountryData(freq='1d'):\n",
    "    gisandata ='https://raw.githubusercontent.com/CSSEGISandData/COVID-19/master/csse_covid_19_data/csse_covid_19_time_series/time_series_covid19_'\n",
    "    confirmed = getTimeSeries(f'{gisandata}confirmed_global.csv')\n",
    "\n",
    "    return confirmed\n",
    "   "
   ]
  },
  {
   "cell_type": "code",
   "execution_count": 6,
   "metadata": {},
   "outputs": [
    {
     "name": "stdout",
     "output_type": "stream",
     "text": [
      "https://raw.githubusercontent.com/CSSEGISandData/COVID-19/web-data/data/cases_country.csv\n",
      "https://raw.githubusercontent.com/CSSEGISandData/COVID-19/master/csse_covid_19_data/csse_covid_19_time_series/time_series_covid19_confirmed_global.csv\n"
     ]
    }
   ],
   "source": [
    "country_df = getTimeSeries('https://raw.githubusercontent.com/CSSEGISandData/COVID-19/web-data/data/cases_country.csv')\n",
    "country_df.columns = map(str.lower, country_df.columns)\n",
    "\n",
    "\n",
    "data = fetchCountryData()\n",
    "data = data.rename(columns={'Country/Region': 'country_region'})\n"
   ]
  },
  {
   "cell_type": "markdown",
   "metadata": {},
   "source": [
    "$\\textbf{Merge the covid data with the world map}$"
   ]
  },
  {
   "cell_type": "code",
   "execution_count": 7,
   "metadata": {},
   "outputs": [],
   "source": [
    "# Get csv with the countries and alpha codes\n",
    "countries_code = pd.read_csv('JohnsHopkins-to-A3.csv')\n",
    "countries_code.head()\n",
    "\n",
    "# ToDO: merge to country_df according to country field\n",
    "countries_code = countries_code.rename(columns={'Country/Region': 'country_region'})\n",
    "countries_code = countries_code.rename(columns={'alpha3': 'country_code'})\n"
   ]
  },
  {
   "cell_type": "markdown",
   "metadata": {},
   "source": [
    "# View the change in the world by using the slide bar"
   ]
  },
  {
   "cell_type": "code",
   "execution_count": 8,
   "metadata": {},
   "outputs": [],
   "source": [
    "from bokeh.io import output_notebook, show, output_file\n",
    "from bokeh.plotting import figure\n",
    "from bokeh.models import GeoJSONDataSource, LinearColorMapper,LogColorMapper, ColorBar, LogTicker\n",
    "from bokeh.palettes import brewer, gray, Turbo256, inferno\n",
    "\n",
    "from bokeh.io import curdoc\n",
    "from bokeh.models import Slider, HoverTool, Column\n",
    "from bokeh.layouts import widgetbox, row, column\n",
    "\n",
    "#Input GeoJSON source that contains features for plotting.\n",
    "\n"
   ]
  },
  {
   "cell_type": "code",
   "execution_count": 9,
   "metadata": {},
   "outputs": [],
   "source": [
    "\n",
    "def json_bydate(dateval):\n",
    "    #provide date in format m/dd/yy as str\n",
    "    \n",
    "    tmp_df = data[['country_region', dateval]].copy()\n",
    "    tmp_df = tmp_df.rename(columns={dateval: 'confirmed'})\n",
    "    \n",
    "    max_conf_bydate =max( tmp_df['confirmed'])\n",
    "\n",
    "    print('max value on ', dateval, max_conf_bydate)\n",
    "    tmp_df_code = pd.merge(countries_code, tmp_df, on='country_region')\n",
    "    \n",
    "    merged = gdf.merge(tmp_df_code, on = 'country_code', how = 'left')\n",
    "    \n",
    "    \n",
    "    \n",
    "    merged_json = json.loads(merged.to_json())\n",
    "    \n",
    "    json_data = json.dumps(merged_json)\n",
    "    \n",
    "    return json_data, max_conf_bydate\n",
    "\n",
    "\n",
    "    "
   ]
  },
  {
   "cell_type": "code",
   "execution_count": 10,
   "metadata": {},
   "outputs": [],
   "source": [
    "palette = inferno(255)[::-1]"
   ]
  },
  {
   "cell_type": "code",
   "execution_count": 11,
   "metadata": {},
   "outputs": [],
   "source": [
    "def get_strdate(val):\n",
    "    \n",
    "    mounth = val.strftime(\"%m\")\n",
    "    day = slider_def.strftime(\"%d\")\n",
    "    yer = slider_def.strftime(\"%y\")\n",
    "    \n",
    "    if mounth[0] == '0':\n",
    "        mounth = mounth[1]\n",
    "\n",
    "    if day[0] == '0':\n",
    "        day = day[1]\n",
    "    return '/'.join([mounth,day, yer])"
   ]
  },
  {
   "cell_type": "code",
   "execution_count": 14,
   "metadata": {},
   "outputs": [
    {
     "name": "stdout",
     "output_type": "stream",
     "text": [
      "max value on  3/15/20 67794\n"
     ]
    }
   ],
   "source": [
    "hover = HoverTool(tooltips = [ ('Country/region','@country'),('Covid', '')])\n",
    "\n",
    "slider_def = date(2020, 3, 15)\n",
    "dstr = get_strdate(slider_def)\n",
    "\n",
    "p_slider = figure(title = f'Confirmed COVID-19 on {dstr}', plot_height = 500 , plot_width = 950)\n",
    "p_slider.xgrid.grid_line_color = None\n",
    "p_slider.ygrid.grid_line_color = None\n",
    "#Add patch renderer to figure. \n",
    "\n",
    "\n",
    "geojs, maxconf = json_bydate(dstr)\n",
    "geosource_date= GeoJSONDataSource(geojson = geojs)\n",
    "\n",
    "\n",
    "color_mapper_date = LogColorMapper(palette = palette, low = 1, high = maxconf, nan_color = '#d9d9d9')\n",
    "\n",
    "color_bar_date = ColorBar(color_mapper=color_mapper_date, ticker = LogTicker(),  label_standoff=12, \n",
    "                          border_line_color=None, location=(0,0))\n",
    "\n",
    "p_slider.patches('xs','ys', source = geosource_date,fill_color = {'field' :'confirmed', 'transform' : color_mapper_date},\n",
    "          line_color = 'black', line_width = 0.25, fill_alpha = 1)\n",
    "\n",
    "\n",
    "p_slider.add_layout(color_bar_date, 'right')\n",
    "\n",
    "\n"
   ]
  },
  {
   "cell_type": "code",
   "execution_count": 15,
   "metadata": {},
   "outputs": [],
   "source": [
    "def update_plot(attr, old, new):\n",
    "    f.write(\"Update func\")\n",
    "    \n",
    "    dateval = new\n",
    "    f.write(dateval)\n",
    "    p_slider.title.text = f'Confirmed COVID-19 on {dateval}'\n",
    "    dstr = get_strdate(dateval)\n",
    "    new_data = json_bydate(dstr)\n",
    "    print(new_data)\n",
    "    geosource_date.geojson = new_data\n",
    "    p_slider.patches('xs','ys', source = geosource_date,fill_color = {'field' :'confirmed', 'transform' : color_mapper},\n",
    "          line_color = 'black', line_width = 0.25, fill_alpha = 1)\n",
    "    \n",
    "    layout = column(p_slider,widgetbox(slider))\n",
    "    \n",
    "    show(layout)\n",
    "\n",
    "   \n",
    "\n",
    "    "
   ]
  },
  {
   "cell_type": "code",
   "execution_count": 17,
   "metadata": {},
   "outputs": [
    {
     "name": "stdout",
     "output_type": "stream",
     "text": [
      "2020-03-15\n"
     ]
    }
   ],
   "source": [
    "from bokeh.models.widgets import DateSlider\n",
    "from bokeh.models import CustomJS\n",
    "\n",
    "print(slider_def)\n",
    "slider = DateSlider(title=\"Date Range: \", start=date(2020, 1, 22),\n",
    "                    end=date.today(), value=slider_def)\n",
    "layout = column(p_slider,widgetbox(slider))\n",
    "\n"
   ]
  },
  {
   "cell_type": "code",
   "execution_count": null,
   "metadata": {},
   "outputs": [],
   "source": [
    "    \n",
    "curdoc().add_root(layout)\n",
    "# curdoc().title = \"DateRangeSlider Example\"\n",
    "\n",
    "#Display plot inline in Jupyter notebook\n",
    "# output_notebook()\n",
    "#Display plot\n",
    "# curdoc().add_root(row(step_select, slider))\n",
    "\n",
    "show(layout)\n",
    "f.write(str(slider.value))\n"
   ]
  }
 ],
 "metadata": {
  "kernelspec": {
   "display_name": "Python (ds)",
   "language": "python",
   "name": "datascience"
  },
  "language_info": {
   "codemirror_mode": {
    "name": "ipython",
    "version": 3
   },
   "file_extension": ".py",
   "mimetype": "text/x-python",
   "name": "python",
   "nbconvert_exporter": "python",
   "pygments_lexer": "ipython3",
   "version": "3.7.6"
  }
 },
 "nbformat": 4,
 "nbformat_minor": 4
}
